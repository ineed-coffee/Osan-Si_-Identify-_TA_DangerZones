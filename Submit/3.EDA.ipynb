{
 "cells": [
  {
   "cell_type": "markdown",
   "metadata": {},
   "source": [
    "# 3.EDA"
   ]
  },
  {
   "cell_type": "code",
   "execution_count": null,
   "metadata": {},
   "outputs": [],
   "source": [
    "import os\n",
    "import pathlib\n",
    "import pandas as pd\n",
    "import numpy as np\n",
    "import matplotlib.pyplot as plt\n",
    "import geopandas as gpd\n",
    "import folium\n",
    "from folium.plugins import DualMap,HeatMapWithTime\n",
    "from haversine import haversine\n",
    "import seaborn as sns\n",
    "import json\n",
    "from shapely.geometry import Point , linestring , multilinestring\n",
    "from sklearn.preprocessing import MinMaxScaler\n",
    "import mapboxgl\n",
    "from mapboxgl.viz import LinestringViz\n",
    "from mapboxgl.utils import create_color_stops, create_numeric_stops\n",
    "import jenkspy"
   ]
  },
  {
   "cell_type": "code",
   "execution_count": null,
   "metadata": {},
   "outputs": [],
   "source": [
    "#Font\n",
    "import matplotlib\n",
    "from matplotlib import font_manager\n",
    "import matplotlib.pyplot as plt\n",
    "import warnings\n",
    "\n",
    "warnings.filterwarnings(\"ignore\")\n",
    "matplotlib.rcParams['axes.unicode_minus']=False\n",
    "\n",
    "font_fname = '/opt/app-root/lib/python3.6/site-packages/matplotlib/mpl-data/fonts/ttf/malgun.ttf'\n",
    "font_family = font_manager.FontProperties(fname=font_fname).get_name()\n",
    "plt.rcParams[\"font.family\"] = font_family\n",
    "sns.set(font=font_family)"
   ]
  },
  {
   "cell_type": "code",
   "execution_count": null,
   "metadata": {},
   "outputs": [],
   "source": [
    "path = pathlib.Path('./data')"
   ]
  },
  {
   "cell_type": "code",
   "execution_count": null,
   "metadata": {},
   "outputs": [],
   "source": [
    "fig_path = pathlib.Path('./figures')\n",
    "if not fig_path.is_dir():\n",
    "    fig_path.mkdir()"
   ]
  },
  {
   "cell_type": "code",
   "execution_count": null,
   "metadata": {},
   "outputs": [],
   "source": [
    "주정차단속 = pd.read_csv(os.path.join(path,'1.오산시_주정차단속(2018~2020).csv'),encoding=\"utf-8\")\n",
    "어린이교통사고_격자 = gpd.read_file(os.path.join(path,'2.오산시_어린이교통사고_격자.geojson'))\n",
    "차량등록현황_격자 = gpd.read_file(os.path.join(path,'3.오산시_차량등록현황_격자.geojson'))\n",
    "거주인구격자_총인구 = gpd.read_file(os.path.join(path,'4.오산시_연령별_거주인구격자(총인구).geojson'))\n",
    "거주인구격자_유소년 = gpd.read_file(os.path.join(path,'5.오산시_연령별_거주인구격자(유소년).geojson'))\n",
    "거주인구격자_생산가능 = gpd.read_file(os.path.join(path,'6.오산시_연령별_거주인구격자(생산가능인구).geojson'))\n",
    "거주인구격자_고령 = gpd.read_file(os.path.join(path,'7.오산시_연령별_거주인구격자(고령).geojson'))\n",
    "유동인구 = pd.read_csv(os.path.join(path,'8.오산시_유동인구(2019).csv'),encoding=\"utf-8\")\n",
    "어린이보호구역 = pd.read_csv(os.path.join(path,'9.오산시_어린이보호구역.csv'),encoding=\"utf-8\")\n",
    "학교위치정보 = pd.read_csv(os.path.join(path,'10.오산시_학교위치정보.csv'),encoding=\"utf-8\")\n",
    "초등학교_통학구 = gpd.read_file(os.path.join(path,'11.오산시_초등학교_통학구.geojson'))\n",
    "중학교_학군 = gpd.read_file(os.path.join(path,'12.오산시_중학교_학군.geojson'))\n",
    "어린이집_유치원현황 = pd.read_csv(os.path.join(path,'13.오산시_어린이집_유치원현황.csv'),encoding=\"utf-8\")\n",
    "기상데이터 = pd.read_csv(os.path.join(path,'14.오산시_기상데이터(2010~2019).csv'),encoding=\"utf-8\")\n",
    "무인교통단속카메라 = pd.read_csv(os.path.join(path,'15.오산시_무인교통단속카메라.csv'),encoding=\"utf-8\")\n",
    "도로안전표지 = pd.read_csv(os.path.join(path,'16.오산시_도로안전표지표준데이터.csv'),encoding=\"utf-8\")\n",
    "횡단보도 = gpd.read_file(os.path.join(path,'17.오산시_횡단보도.geojson'))\n",
    "과속방지턱 = pd.read_csv(os.path.join(path,'18.오산시_과속방지턱표준데이터.csv'),encoding=\"utf-8\")\n",
    "신호등 = gpd.read_file(os.path.join(path,'19.오산시_신호등.geojson'))\n",
    "CCTV설치현황 = pd.read_csv(os.path.join(path,'20.오산시_CCTV설치현황.csv'),encoding=\"utf-8\")\n",
    "인도 = gpd.read_file(os.path.join(path,'21.오산시_인도.geojson'))\n",
    "버스정류장 = pd.read_csv(os.path.join(path,'22.오산시_버스정류장.csv'),encoding=\"utf-8\")\n",
    "상세도로망 = gpd.read_file(os.path.join(path,'23.오산시_상세도로망_LV6.geojson'))\n",
    "시간대별_추정교통량 = pd.read_csv(os.path.join(path,'24.평일_전일,시간대별_오산시_추정교통량_Level6.csv'),encoding=\"utf-8\")\n",
    "혼잡빈도강도 = pd.read_csv(os.path.join(path,'25.평일_전일_오산시_혼잡빈도강도_Level6.csv'),encoding=\"utf-8\")\n",
    "혼잡시간강도 = pd.read_csv(os.path.join(path,'26.평일_전일_오산시_혼잡시간강도_Level6.csv'),encoding=\"utf-8\")\n",
    "도로명주소_건물 = gpd.read_file(os.path.join(path,'27.오산시_도로명주소_건물.geojson'))\n",
    "건물연면적_격자 = gpd.read_file(os.path.join(path,'28.오산시_건물연면적_격자.geojson'))\n",
    "체육시설현황 = pd.read_csv(os.path.join(path,'29.오산시_체육시설현황.csv'),encoding=\"utf-8\")\n",
    "학원_및_교습소_현황 = pd.read_csv(os.path.join(path,'30.오산시_학원_및_교습소_현황.csv'),encoding=\"utf-8\")\n",
    "법정경계_시군구 = gpd.read_file(os.path.join(path,'31.오산시_법정경계(시군구).geojson'))\n",
    "행정경계_읍면동 = gpd.read_file(os.path.join(path,'32.오산시_행정경계(읍면동).geojson'))\n",
    "법정경계_읍면동 = gpd.read_file(os.path.join(path,'33.오산시_법정경계(읍면동).geojson'))\n",
    "지적도 = gpd.read_file(os.path.join(path,'34.오산시_지적도.geojson'))\n",
    "\n",
    "관심학원_현황= pd.read_csv(os.path.join(path,'관심학원_현황.csv'),encoding=\"utf-8\")\n",
    "초등학교위치정보= pd.read_csv(os.path.join(path,'초등학교위치정보.csv'),encoding=\"utf-8\")\n",
    "평균유동인구= pd.read_csv(os.path.join(path,'평균유동인구.csv'),encoding=\"utf-8\")"
   ]
  },
  {
   "cell_type": "markdown",
   "metadata": {},
   "source": [
    "# 분석배경 EDA (외부데이터)"
   ]
  },
  {
   "cell_type": "markdown",
   "metadata": {},
   "source": [
    "> ### TAAS(교통사고분석시스템) 제공 어린이 보행자 교통사고 연도별 발생 건수"
   ]
  },
  {
   "cell_type": "code",
   "execution_count": null,
   "metadata": {
    "scrolled": false
   },
   "outputs": [],
   "source": [
    "TAAS_어린이교통사고 = pd.read_excel(\"./files/어린이(만 13세 미만)보행자 교통사고.xls.xlsx\",skiprows=[0,1])\n",
    "\n",
    "mean = int(TAAS_어린이교통사고[\"사고건수(건)\"].mean())\n",
    "fig,ax = plt.subplots(figsize=(12,8))\n",
    "ax.plot(TAAS_어린이교통사고[\"년도\"].astype(str).unique().tolist(),\n",
    "        TAAS_어린이교통사고[\"사고건수(건)\"].values.tolist(),'r--',linewidth=5,marker=\"o\",markersize=20)\n",
    "\n",
    "ax.set_title(\"연도별 어린이 보행자 교통사고 추이\",fontsize=20)\n",
    "ax.axhspan(mean, mean+25, facecolor='#2ca02c', alpha=0.5)\n",
    "ax.set_xlabel(\"연도\")\n",
    "ax.set_ylabel(\"사고 수\")\n",
    "ax.annotate(f'매년 평균 {mean}건 이상', (4, mean+100),fontsize=16,\n",
    "            horizontalalignment='right', verticalalignment='top')\n",
    "\n",
    "fig.savefig(os.path.join(fig_path,\"TAAS제공_연도별_어린이_보행자_교통사고_추이.jpg\"),dpi=fig.dpi)\n",
    "plt.show()"
   ]
  },
  {
   "cell_type": "code",
   "execution_count": null,
   "metadata": {},
   "outputs": [],
   "source": [
    "print(\"오산시에서 지난 10년간 발생한 어린이 교통사고 건수 :\",int(어린이교통사고_격자[\"accident_cnt\"].sum()))"
   ]
  },
  {
   "cell_type": "markdown",
   "metadata": {},
   "source": [
    "`어린이 교통사고는 전국적으로 매년 4078건 이상 발생하고 있으며 오산시에도 지난 10년간 537건의 어린이 교통사고가 있었다.`"
   ]
  },
  {
   "cell_type": "markdown",
   "metadata": {},
   "source": [
    "# 오산시 전반적 EDA"
   ]
  },
  {
   "cell_type": "markdown",
   "metadata": {},
   "source": [
    "> ### 1.현재 어린이보호구역 선정 현황"
   ]
  },
  {
   "cell_type": "markdown",
   "metadata": {},
   "source": [
    "> __전체 시설 중 어린이보후구역 지정 비율 현황__"
   ]
  },
  {
   "cell_type": "code",
   "execution_count": null,
   "metadata": {
    "scrolled": false
   },
   "outputs": [],
   "source": [
    "전체시설 = set(어린이집_유치원현황[\"시설명\"].unique())\n",
    "전체시설.update(set(초등학교위치정보[\"학교명\"].unique()))\n",
    "보호구역시설 = set(어린이보호구역[\"시설명\"].unique())\n",
    "\n",
    "fig, ax = plt.subplots(figsize=(15, 7), subplot_kw=dict(aspect=\"equal\"))\n",
    "\n",
    "labels = [\"지정\",\"미지정\"]\n",
    "\n",
    "sizes = [len(보호구역시설),len(전체시설-보호구역시설)]\n",
    "\n",
    "def func(pct, allvals):\n",
    "    absolute = int(pct/100.*np.sum(allvals))\n",
    "    return \"{:.1f}% ({:d} 곳)\".format(pct, absolute)\n",
    "\n",
    "wedges, texts, autotexts = ax.pie(sizes, autopct=lambda pct: func(pct, sizes),\n",
    "                                  textprops=dict(color=\"w\"),colors=[\"green\",\"red\"],explode=[0.1,0])\n",
    "ax.legend(wedges, labels,\n",
    "          title=\"지정여부\",\n",
    "          loc=\"center left\",\n",
    "          bbox_to_anchor=(1, 0, 0.5, 1))\n",
    "\n",
    "plt.setp(autotexts, size=16, weight=\"bold\")\n",
    "\n",
    "ax.set_title(\"전체 시설 중 어린이보후구역 지정 비율 현황\")\n",
    "fig.savefig(os.path.join(fig_path,\"전체 시설 중 어린이보후구역 지정 비율 현황.jpg\"),dpi=fig.dpi)\n",
    "\n",
    "plt.show()\n"
   ]
  },
  {
   "cell_type": "markdown",
   "metadata": {},
   "source": [
    "`초등학교 , 유치원 , 어린이집 전체 시설 중 어린이 보호구역으로 지정된 시설 비율은 1/4 수준`"
   ]
  },
  {
   "cell_type": "markdown",
   "metadata": {},
   "source": [
    "> __시설종류 별 분포__"
   ]
  },
  {
   "cell_type": "code",
   "execution_count": null,
   "metadata": {},
   "outputs": [],
   "source": [
    "시설종류 = 어린이보호구역[\"시설종류\"].value_counts()\n",
    "fig, ax = plt.subplots(figsize=(15, 7), subplot_kw=dict(aspect=\"equal\"))\n",
    "\n",
    "labels = 시설종류.index.tolist()\n",
    "\n",
    "sizes = 시설종류.values.tolist()\n",
    "\n",
    "def func(pct, allvals):\n",
    "    absolute = int(pct/100.*np.sum(allvals))\n",
    "    return \"{:.1f}% ({:d} 개)\".format(pct, absolute)\n",
    "\n",
    "colors_ = sns.color_palette('Paired',시설종류.shape[0])\n",
    "wedges, texts, autotexts = ax.pie(sizes, autopct=lambda pct: func(pct, sizes),\n",
    "                                  textprops=dict(color=\"k\"),colors=colors_)\n",
    "ax.legend(wedges, labels,\n",
    "          title=\"시설종류\",\n",
    "          loc=\"center left\",\n",
    "          bbox_to_anchor=(1, 0, 0.5, 1))\n",
    "\n",
    "plt.setp(autotexts, size=16, weight=\"bold\")\n",
    "\n",
    "ax.set_title(\"오산시 어린이 보호구역 시설종류 분포\")\n",
    "\n",
    "plt.show()"
   ]
  },
  {
   "cell_type": "markdown",
   "metadata": {},
   "source": [
    "`오산시 전체 어린이 보호구역 시설 중 어린이집의 비율이 절반 이상을 차지하고 있음`"
   ]
  },
  {
   "cell_type": "markdown",
   "metadata": {},
   "source": [
    "> __오산시 동별 어린이보호구역 지정현황__"
   ]
  },
  {
   "cell_type": "code",
   "execution_count": null,
   "metadata": {
    "scrolled": false
   },
   "outputs": [],
   "source": [
    "def cnt_kids_zone(geo_obj):\n",
    "    global 어린이보호구역\n",
    "    \n",
    "    cnt=0\n",
    "    for line in 어린이보호구역.iloc:\n",
    "        \n",
    "        [lng,lat] = line[-2:]\n",
    "        if geo_obj.contains(Point(lng, lat)):\n",
    "            cnt+=1\n",
    "    return cnt\n",
    "\n",
    "fig1, ax1 = plt.subplots()\n",
    "colors_ = sns.color_palette('spring',법정경계_읍면동.shape[0])\n",
    "\n",
    "동별_지정현황 = 법정경계_읍면동.copy()\n",
    "동별_지정현황[\"보호구역 수\"] = 법정경계_읍면동.geometry.map(cnt_kids_zone)\n",
    "동별_지정현황.index = 법정경계_읍면동.EMD_KOR_NM\n",
    "동별_지정현황.sort_values(by=\"보호구역 수\")[\"보호구역 수\"].plot(kind=\"barh\",color=colors_,figsize=(12,11),ax=ax1)\n",
    "\n",
    "ax1.set_title(\"동별 어린이보호구역 지정 수\",fontsize=20)\n",
    "ax1.set_ylabel(\"오산시 동\")\n",
    "\n",
    "plt.show()"
   ]
  },
  {
   "cell_type": "markdown",
   "metadata": {},
   "source": [
    "`동 별 어린이 보호구역 지정 현황을 살펴본 결과 가장 많은 어린이 보호구역을 포함하는 세 동은 : 원동 - 오산동 - 수청동 순`"
   ]
  },
  {
   "cell_type": "markdown",
   "metadata": {},
   "source": [
    "> __CCTV 설치 수 분포와 CCTV 설치 여부에 따른 보호구역 도로폭 차이__"
   ]
  },
  {
   "cell_type": "code",
   "execution_count": null,
   "metadata": {},
   "outputs": [],
   "source": [
    "CCTV_yes=어린이보호구역[어린이보호구역['CCTV설치여부']=='Y']\n",
    "CCTV_no=어린이보호구역[어린이보호구역['CCTV설치여부']=='N']"
   ]
  },
  {
   "cell_type": "code",
   "execution_count": null,
   "metadata": {
    "scrolled": false
   },
   "outputs": [],
   "source": [
    "fig1, ax1 = plt.subplots(figsize=(7, 6))\n",
    "fig2, (ax2 , ax3) = plt.subplots(ncols=2,figsize=(15, 6))\n",
    "\n",
    "# 어린이보호구역 중 CCTV 설치가 되어있는 시설의 CCTV설치대수\n",
    "sns.countplot(CCTV_yes['CCTV설치대수'], hue=CCTV_yes['시설종류'],ax=ax1,palette=\"winter\")\n",
    "ax1.set_title(\"시설별 설치 CCTV 분포\",fontsize=20)\n",
    "fig1.tight_layout()\n",
    "\n",
    "# 어린이보호구역 중 CCTV 설치가 되어있는 시설의 보호구역도로폭\n",
    "sns.distplot(CCTV_yes[CCTV_yes['시설종류']=='어린이집']['보호구역도로폭'], kde=False,ax=ax2,color=\"yellow\")\n",
    "sns.distplot(CCTV_yes[CCTV_yes['시설종류']=='유치원']['보호구역도로폭'], kde=False,ax=ax2,color=\"orange\")\n",
    "sns.distplot(CCTV_yes[CCTV_yes['시설종류']=='초등학교']['보호구역도로폭'], kde=False,ax=ax2,color=\"pink\")\n",
    "ax2.set_title(\"CCTV 설치구역 도로폭 분포\",fontsize=20)\n",
    "\n",
    "sns.distplot(CCTV_no[CCTV_no['시설종류']=='어린이집']['보호구역도로폭'], kde=False,ax=ax3,color=\"cyan\")\n",
    "sns.distplot(CCTV_no[CCTV_no['시설종류']=='유치원']['보호구역도로폭'], kde=False,ax=ax3,color=\"purple\")\n",
    "sns.distplot(CCTV_no[CCTV_no['시설종류']=='초등학교']['보호구역도로폭'], kde=False,ax=ax3,color=\"red\")\n",
    "ax3.set_title(\"CCTV 미설치구역 도로폭 분포\",fontsize=20)\n",
    "\n",
    "plt.show()"
   ]
  },
  {
   "cell_type": "markdown",
   "metadata": {},
   "source": [
    "```보호구역 중 가장 큰 비율을 차지하는 어린이집의 경우 대부분 1대의 CCTV가 설치되어 있으며  \n",
    "CCTV 설치 구역에 비해 미설치 구역의 도로폭이 더 좁은 경향이 있음을 확인할 수 있음```"
   ]
  },
  {
   "cell_type": "markdown",
   "metadata": {},
   "source": [
    "> __반경 300m로 확인한 전체적인 어린이 보호구역 분포 현황__"
   ]
  },
  {
   "cell_type": "code",
   "execution_count": null,
   "metadata": {},
   "outputs": [],
   "source": [
    "center=[37.164584, 127.050451]\n",
    "zoom =12.5\n",
    "\n",
    "m = folium.Map(location=center, zoom_start=zoom)\n",
    "\n",
    "folium.GeoJson(\n",
    "    법정경계_읍면동,\n",
    "    name = \"동 경계\",\n",
    "    style_function=lambda feature: {\n",
    "        'color': '#000000',\n",
    "        'weight': 2,\n",
    "        'opacity':0.2,\n",
    "    }\n",
    ").add_to(m)\n",
    "\n",
    "for line in 어린이보호구역.iloc:\n",
    "    [lng,lat] = line[-2:]\n",
    "    \n",
    "    folium.Circle(\n",
    "    location = [lat,lng],\n",
    "    radius=300,\n",
    "    stroke=False,\n",
    "    fill=True,\n",
    "    fill_color='green',\n",
    "    fill_opacity=0.6,\n",
    "    tooltip=line[\"시설명\"]).add_to(m)\n",
    "    \n",
    "folium.LayerControl().add_to(m)\n",
    "\n",
    "m"
   ]
  },
  {
   "cell_type": "markdown",
   "metadata": {},
   "source": [
    "```앞서 확인한 원동 , 오산동 , 수청동에 많은 원이 겹쳐있음을 확인 가능```"
   ]
  },
  {
   "cell_type": "markdown",
   "metadata": {},
   "source": [
    "> ### 2. 오산시 인구분포 현황"
   ]
  },
  {
   "cell_type": "markdown",
   "metadata": {},
   "source": [
    "> __Folium Choropleth 활용 연령별 거주인구 공간 시각화__"
   ]
  },
  {
   "cell_type": "code",
   "execution_count": null,
   "metadata": {},
   "outputs": [],
   "source": [
    "거주인구_전체 = 거주인구격자_총인구.copy()\n",
    "거주인구_전체.rename(columns={\"val\":\"총인구\"},inplace=True)\n",
    "거주인구_전체 = 거주인구_전체.merge(거주인구격자_유소년[[\"gid\",\"val\"]],on=\"gid\")\n",
    "거주인구_전체.rename(columns={\"val\":\"유소년\"},inplace=True)\n",
    "거주인구_전체 = 거주인구_전체.merge(거주인구격자_생산가능[[\"gid\",\"val\"]],on=\"gid\")\n",
    "거주인구_전체.rename(columns={\"val\":\"생산가능\"},inplace=True)\n",
    "거주인구_전체 = 거주인구_전체.merge(거주인구격자_고령[[\"gid\",\"val\"]],on=\"gid\")\n",
    "거주인구_전체.rename(columns={\"val\":\"고령\"},inplace=True)\n",
    "거주인구_전체.head(3)"
   ]
  },
  {
   "cell_type": "code",
   "execution_count": null,
   "metadata": {},
   "outputs": [],
   "source": [
    "center=[37.164584, 127.050451]\n",
    "zoom =12.5\n",
    "연령별_거주인구 = DualMap(location=center,zoom_start=zoom,tiles='cartodbdark_matter')\n",
    "\n",
    "folium.GeoJson(\n",
    "    법정경계_읍면동,\n",
    "    name = \"동 경계\",\n",
    "    style_function=lambda feature: {\n",
    "        'color': '#ffffff',\n",
    "        'weight': 2,\n",
    "        'opacity':0.2,\n",
    "    }\n",
    ").add_to(연령별_거주인구)\n",
    "\n",
    "folium.Choropleth(\n",
    "    geo_data=거주인구_전체,\n",
    "    name='총 거주인구',\n",
    "    data=거주인구_전체,\n",
    "    columns=('gid', '총인구'),\n",
    "    key_on='feature.properties.gid',\n",
    "    fill_color='YlOrRd',\n",
    "    nan_fill_opacity=0,\n",
    "    fill_opacity=1,\n",
    "    line_color='gray',\n",
    "    line_weight=0,\n",
    "    legend_name='총 거주인구',\n",
    ").add_to(연령별_거주인구.m1)\n",
    "\n",
    "folium.Choropleth(\n",
    "    geo_data=거주인구_전체,\n",
    "    name='유소년 거주인구',\n",
    "    data=거주인구_전체,\n",
    "    columns=('gid', '유소년'),\n",
    "    key_on='feature.properties.gid',\n",
    "    fill_color='YlOrRd',\n",
    "    nan_fill_opacity=0,\n",
    "    fill_opacity=1,\n",
    "    line_color='gray',\n",
    "    line_weight=0,\n",
    "    legend_name='유소년 거주인구',\n",
    ").add_to(연령별_거주인구.m2)\n",
    "\n",
    "folium.LayerControl(collapsed=False).add_to(연령별_거주인구)\n",
    "\n",
    "연령별_거주인구"
   ]
  },
  {
   "cell_type": "code",
   "execution_count": null,
   "metadata": {},
   "outputs": [],
   "source": [
    "center=[37.164584, 127.050451]\n",
    "zoom =12.5\n",
    "연령별_거주인구2 = DualMap(location=center,zoom_start=zoom,tiles='cartodbdark_matter')\n",
    "\n",
    "folium.GeoJson(\n",
    "    법정경계_읍면동,\n",
    "    name = \"동 경계\",\n",
    "    style_function=lambda feature: {\n",
    "        'color': '#ffffff',\n",
    "        'weight': 2,\n",
    "        'opacity':0.2,\n",
    "    }\n",
    ").add_to(연령별_거주인구2)\n",
    "\n",
    "folium.Choropleth(\n",
    "    geo_data=거주인구_전체,\n",
    "    name='생산가능 거주인구',\n",
    "    data=거주인구_전체,\n",
    "    columns=('gid', '생산가능'),\n",
    "    key_on='feature.properties.gid',\n",
    "    fill_color='YlOrRd',\n",
    "    nan_fill_opacity=0,\n",
    "    fill_opacity=1,\n",
    "    line_color='gray',\n",
    "    line_weight=0,\n",
    "    legend_name='생산가능 거주인구',\n",
    ").add_to(연령별_거주인구2.m1)\n",
    "\n",
    "folium.Choropleth(\n",
    "    geo_data=거주인구_전체,\n",
    "    name='고령 거주인구',\n",
    "    data=거주인구_전체,\n",
    "    columns=('gid', '고령'),\n",
    "    key_on='feature.properties.gid',\n",
    "    fill_color='YlOrRd',\n",
    "    nan_fill_opacity=0,\n",
    "    fill_opacity=1,\n",
    "    line_color='gray',\n",
    "    line_weight=0,\n",
    "    legend_name='고령 거주인구',\n",
    ").add_to(연령별_거주인구2.m2)\n",
    "\n",
    "folium.LayerControl(collapsed=False).add_to(연령별_거주인구2)\n",
    "\n",
    "연령별_거주인구2"
   ]
  },
  {
   "cell_type": "markdown",
   "metadata": {},
   "source": [
    "`연령별로 밀집 거주지역이 조금씩 다르며 동별 밀집 정도를 확인해야할 필요성이 있음`"
   ]
  },
  {
   "cell_type": "markdown",
   "metadata": {},
   "source": [
    "> __각 동에 따른 연령별 거주 인구 비교__"
   ]
  },
  {
   "cell_type": "code",
   "execution_count": null,
   "metadata": {
    "scrolled": true
   },
   "outputs": [],
   "source": [
    "# 동별 총 인구수 분포\n",
    "def ppl(geo_obj,col_name):\n",
    "    global 거주인구_전체\n",
    "    \n",
    "    cnt=0\n",
    "    for grid in 거주인구_전체[거주인구_전체[col_name]>0].iloc:\n",
    "        if geo_obj.contains(grid.geometry.centroid):\n",
    "            cnt+=grid[col_name]\n",
    "    return cnt\n",
    "\n",
    "동별_인구수 = 법정경계_읍면동.copy()\n",
    "동별_인구수[\"총 인구\"] = 동별_인구수.geometry.map(lambda x:ppl(x,\"총인구\"))\n",
    "동별_인구수[\"유소년 인구\"] = 동별_인구수.geometry.map(lambda x:ppl(x,\"유소년\"))\n",
    "동별_인구수[\"생산가능 인구\"] = 동별_인구수.geometry.map(lambda x:ppl(x,\"생산가능\"))\n",
    "동별_인구수[\"고령 인구\"] = 동별_인구수.geometry.map(lambda x:ppl(x,\"고령\"))\n",
    "동별_인구수.head(3)"
   ]
  },
  {
   "cell_type": "code",
   "execution_count": null,
   "metadata": {},
   "outputs": [],
   "source": [
    "print(\"총 인구 기준 가장 거주인구가 많은 다섯 동 : \")\n",
    "print(동별_인구수.sort_values(by=\"총 인구\",ascending=False)[\"EMD_KOR_NM\"][:5].values.tolist())\n",
    "print()\n",
    "print(\"유소년 인구 기준 가장 거주인구가 많은 다섯 동 : \")\n",
    "print(동별_인구수.sort_values(by=\"유소년 인구\",ascending=False)[\"EMD_KOR_NM\"][:5].values.tolist())\n",
    "print()\n",
    "print(\"생산가능 인구 기준 가장 거주인구가 많은 다섯 동 : \")\n",
    "print(동별_인구수.sort_values(by=\"생산가능 인구\",ascending=False)[\"EMD_KOR_NM\"][:5].values.tolist())\n",
    "print()\n",
    "print(\"고령 인구 기준 가장 거주인구가 많은 다섯 동 : \")\n",
    "print(동별_인구수.sort_values(by=\"고령 인구\",ascending=False)[\"EMD_KOR_NM\"][:5].values.tolist())"
   ]
  },
  {
   "cell_type": "code",
   "execution_count": null,
   "metadata": {},
   "outputs": [],
   "source": [
    "temp2=pd.melt(동별_인구수.drop(['EMD_CD', 'geometry', '총 인구'], axis=1), \n",
    "             id_vars='EMD_KOR_NM', var_name='인구구분', value_name='인구수')\n",
    "temp2=temp2.groupby(['EMD_KOR_NM', '인구구분'])['인구수'].sum().unstack('인구구분')\n",
    "\n",
    "temp2.plot(kind='bar', stacked=True, cmap='prism', figsize=(15,10))\n",
    "plt.title('각 동에 따른 연령별 거주 인구 비교', fontsize=20)\n",
    "index = list(range(len(temp2)))\n",
    "plt.xticks(index, temp2.index, fontsize=14, rotation=45)\n",
    "plt.xlabel('동 구분', fontsize=18)\n",
    "plt.ylabel('인구 수', fontsize=18)\n",
    "\n",
    "plt.show()"
   ]
  },
  {
   "cell_type": "markdown",
   "metadata": {},
   "source": [
    "`동별 인구의 세부 연령층 비율이 다른 것을 확인할 수 있음. 따라서 추후 과제에서 연령별 인구 정보를 개별 컬럼화할 필요성이 보임.`"
   ]
  },
  {
   "cell_type": "markdown",
   "metadata": {},
   "source": [
    "> ### 3. 오산시 유동인구 및 교통흐름 시각화"
   ]
  },
  {
   "cell_type": "markdown",
   "metadata": {},
   "source": [
    "> __시간대에 따른 오산시 유동인구 시각화__"
   ]
  },
  {
   "cell_type": "code",
   "execution_count": null,
   "metadata": {},
   "outputs": [],
   "source": [
    "시간별_유동인구=유동인구.groupby(['lon', 'lat']).mean()\n",
    "시간별_유동인구 = 시간별_유동인구.drop('STD_YM', axis=1).reset_index()\n",
    "시간별_유동인구=pd.melt(시간별_유동인구, id_vars=['lon', 'lat'], var_name='timestamp')\n",
    "시간별_유동인구.head(2)"
   ]
  },
  {
   "cell_type": "code",
   "execution_count": null,
   "metadata": {},
   "outputs": [],
   "source": [
    "fig,ax_ = plt.subplots(figsize=(8,4))\n",
    "sns.distplot(시간별_유동인구['value'],ax=ax_)\n",
    "ax_.set_title(\"시간대별 유동인구 분포\",fontsize=15)\n",
    "ax_.set_xlabel(\"유동인구\",fontsize=10)\n",
    "ax_.set_ylabel(\"밀도\",fontsize=10)"
   ]
  },
  {
   "cell_type": "markdown",
   "metadata": {},
   "source": [
    "`상당히 뾰족한 모양의 분포를 띄며 큰 이상치도 존재`"
   ]
  },
  {
   "cell_type": "code",
   "execution_count": null,
   "metadata": {},
   "outputs": [],
   "source": [
    "# 렌더링 문제로 상위 50% 유동인구에 대해서 시간대별 heatmap 확인\n",
    "mid = 시간별_유동인구['value'].quantile(0.5)\n",
    "시간별_유동인구_상위=시간별_유동인구[시간별_유동인구['value']>mid].reset_index(drop=True)\n",
    "\n",
    "mms=MinMaxScaler()\n",
    "시간별_유동인구_상위['value_mms']=mms.fit_transform(np.array(시간별_유동인구_상위['value']).reshape(-1,1))\n",
    "\n",
    "시간별_유동인구_상위.head(2)"
   ]
  },
  {
   "cell_type": "code",
   "execution_count": null,
   "metadata": {},
   "outputs": [],
   "source": [
    "시간대=시간별_유동인구['timestamp'].unique()\n",
    "\n",
    "시간별_유동인구_재구조=[]\n",
    "for t in 시간대:\n",
    "    element=[]\n",
    "    특정시간대=시간별_유동인구_상위[시간별_유동인구_상위['timestamp']==t]\n",
    "    \n",
    "    for lat, lon, value in zip(특정시간대['lat'], 특정시간대['lon'], 특정시간대['value_mms']):\n",
    "        element.append([lat, lon, value])\n",
    "    \n",
    "    시간별_유동인구_재구조.append(element)"
   ]
  },
  {
   "cell_type": "code",
   "execution_count": null,
   "metadata": {},
   "outputs": [],
   "source": [
    "# base map\n",
    "center=[37.164584, 127.050451]\n",
    "zoom =12.5\n",
    "시간별_유동인구_map = folium.Map(location=center, zoom_start=zoom)\n",
    "\n",
    "folium.GeoJson(\n",
    "    법정경계_읍면동,\n",
    "    name = \"동 경계\",\n",
    "    style_function=lambda feature: {\n",
    "        'color': '#000000',\n",
    "        'weight': 2,\n",
    "        'opacity':0.2,\n",
    "    }\n",
    ").add_to(시간별_유동인구_map)\n",
    "\n",
    "# 어린이보호구역\n",
    "for i in range(len(어린이보호구역)):\n",
    "    folium.Circle(\n",
    "    location = 어린이보호구역.loc[i, ['보호구역_위도', '보호구역_경도']],\n",
    "    radius=30\n",
    "    ).add_to(시간별_유동인구_map)\n",
    "\n",
    "# heatmap with time\n",
    "hm = HeatMapWithTime(시간별_유동인구_재구조, index=[str(i) for i in range(0,24)], auto_play=True)\n",
    "hm.add_to(시간별_유동인구_map)\n",
    "\n",
    "시간별_유동인구_map"
   ]
  },
  {
   "cell_type": "markdown",
   "metadata": {},
   "source": [
    "`거주인구가 많은 동의 경우 등/하교 시간대뿐만 아니라 다른 시간대에도 유동인구가 많은 것을 시각적으로 확인할 수 있음`"
   ]
  },
  {
   "cell_type": "markdown",
   "metadata": {},
   "source": [
    "> __오산시 교통흐름 시각화__  \n",
    "23번(상세도로망) , 24번(시간대별_추정교통량) , 25번(혼잡빈도강도) , 26번(혼잡시간강도) 데이터를 종합하여 시각화 "
   ]
  },
  {
   "cell_type": "code",
   "execution_count": null,
   "metadata": {},
   "outputs": [],
   "source": [
    "# 상세도로망_Link_Id 를 기준으로 데이터 merge\n",
    "\n",
    "전일_추정교통량 = 시간대별_추정교통량[시간대별_추정교통량['시간적범위'] == '전일'].copy()\n",
    "전일_추정교통량[\"상세도로망_LinkID\"] = 전일_추정교통량[\"상세도로망_LinkID\"].map(lambda x:str(x))\n",
    "\n",
    "혼잡시간강도[\"상세도로망_LinkID\"] = 혼잡시간강도[\"상세도로망_LinkID\"].map(lambda x:str(x)[:-2])\n",
    "혼잡빈도강도[\"상세도로망_LinkID\"] = 혼잡빈도강도[\"상세도로망_LinkID\"].map(lambda x:str(x)[:-2])\n",
    "혼잡시간강도_전일 = 혼잡시간강도[['상세도로망_LinkID','혼잡시간강도']]\n",
    "혼잡빈도강도_전일 = 혼잡빈도강도[['상세도로망_LinkID','혼잡빈도강도']]\n",
    "\n",
    "전일_교통량 = 전일_추정교통량.merge(혼잡시간강도_전일,on='상세도로망_LinkID',how='outer')\n",
    "전일_교통량 = 전일_교통량.merge(혼잡빈도강도_전일,on='상세도로망_LinkID',how='outer')\n",
    "\n",
    "전일_교통량['혼잡시간강도'].fillna(전일_교통량.median()['혼잡시간강도'], inplace=True)\n",
    "전일_교통량['혼잡빈도강도'].fillna(전일_교통량.median()['혼잡빈도강도'], inplace=True)\n",
    "\n",
    "전일_교통량['혼잡시간_car'] = 전일_교통량['전체 추정교통량'] * (전일_교통량['혼잡시간강도']/100)\n",
    "전일_교통량['혼잡빈도_car'] = 전일_교통량['전체 추정교통량'] * (전일_교통량['혼잡빈도강도']/100)\n",
    "전일_교통량 = 전일_교통량.drop(['시도명','시군구명','시간적범위','평일주말'], axis =1)\n",
    "전일_교통량.head(2)"
   ]
  },
  {
   "cell_type": "code",
   "execution_count": null,
   "metadata": {},
   "outputs": [],
   "source": [
    "# 동별 교통량으로 그룹화\n",
    "\n",
    "동별_전일_교통량 = 전일_교통량.groupby(['상세도로망_LinkID','읍면동명'],as_index=False).mean()\n",
    "\n",
    "\n",
    "breaks = jenkspy.jenks_breaks(동별_전일_교통량['전체 추정교통량'], nb_class = 5)\n",
    "동별_전일_교통량['label'] = pd.cut(동별_전일_교통량['전체 추정교통량'],bins=breaks,\n",
    "                            labels=['break1', 'break2', 'break3', 'break4', 'break5'],\n",
    "                            include_lowest=True)\n",
    "동별_전일_교통량.head(2)"
   ]
  },
  {
   "cell_type": "code",
   "execution_count": null,
   "metadata": {},
   "outputs": [],
   "source": [
    "# 상세도로망 데이터로부터 geometry 정보 merge , 시각화에 필요한 칼럼만 추출\n",
    "\n",
    "def line_string_to_coordinates(line_string):\n",
    "    if isinstance(line_string, linestring.LineString):\n",
    "        lon, lat = line_string.xy\n",
    "        return [[x, y] for x, y in zip(lon, lat)]\n",
    "    elif isinstance(line_string, multilinestring.MultiLineString):\n",
    "        ret = []\n",
    "        for i in range(len(line_string)):\n",
    "            lon, lat = line_string[i].xy\n",
    "            for x, y in zip(lon, lat):\n",
    "                ret.append([x, y])\n",
    "        return ret\n",
    "    \n",
    "상세도로망['도로 폭'] = 상세도로망['width'].apply(int)/상세도로망['width'].apply(int).max()\n",
    "상세도로망['geometry'] = 상세도로망['geometry'].apply(line_string_to_coordinates)\n",
    "상세도로망_df= pd.DataFrame(상세도로망)\n",
    "동별_전일_교통량 = 동별_전일_교통량.merge(상세도로망_df, left_on = '상세도로망_LinkID',right_on=\"link_id\")\n",
    "\n",
    "\n",
    "cols = ['상세도로망_LinkID', '전체 추정교통량', '혼잡시간_car', '혼잡빈도_car', 'label', 'link_type', 'length', 'width', 'geometry', '도로 폭']\n",
    "동별_전일_교통량 = 동별_전일_교통량[cols]\n",
    "동별_전일_교통량 = 동별_전일_교통량.rename(columns={\"전체 추정교통량\":\"추정교통량\"})\n",
    "동별_전일_교통량.head(2)"
   ]
  },
  {
   "cell_type": "code",
   "execution_count": null,
   "metadata": {},
   "outputs": [],
   "source": [
    "# 시각화를 위해 동별_전일_교통량 데이터를 geojson 형식으로 변환\n",
    "\n",
    "def df_to_geojson(df, properties, geometry = 'geometry'):\n",
    "    geojson = {'type':'FeatureCollection', 'features':[]}\n",
    "\n",
    "    for _, row in df.iterrows():\n",
    "        feature = {'type':'Feature',\n",
    "                   'properties':{},\n",
    "                   'geometry':{\"type\": \"MultiLineString\",\n",
    "                               \"coordinates\":[]}}\n",
    "\n",
    "        feature['geometry'][\"coordinates\"] = [row[geometry]]\n",
    "\n",
    "        for prop in properties:\n",
    "            feature['properties'][prop] = row[prop]\n",
    "\n",
    "        geojson['features'].append(feature)\n",
    "    return geojson\n",
    "\n",
    "cols[1]=\"추정교통량\"\n",
    "동별_전일_교통량_geojson = df_to_geojson(동별_전일_교통량,cols)"
   ]
  },
  {
   "cell_type": "code",
   "execution_count": null,
   "metadata": {},
   "outputs": [],
   "source": [
    "API_key = 'pk.eyJ1IjoiY2h6YmdyIiwiYSI6ImNramd1b3RrMDBxd2MydHBzMGN3MTR0amQifQ.BDDkVXpuuyPP6gogWgjAWg'\n",
    "center = (127.050451, 37.164584)\n",
    "color_stops = create_color_stops(breaks,colors='YlOrRd')\n",
    "\n",
    "viz =  LinestringViz(동별_전일_교통량_geojson,\n",
    "                access_token= API_key, \n",
    "                color_property = \"추정교통량\",\n",
    "                color_stops = color_stops,\n",
    "                line_width_property='도로 폭',\n",
    "                line_width_stops=create_numeric_stops([0, 0.2, 0.4, 0.6, 0.8, 1.0], 1, 10),\n",
    "                opacity=0.8,\n",
    "                center = center,\n",
    "                zoom = 12,\n",
    "                below_layer = 'waterway-label')\n",
    "viz.show()"
   ]
  },
  {
   "cell_type": "markdown",
   "metadata": {},
   "source": [
    "### 추가설명\n",
    "__넓음 (노랑) <<< 도로 폭 >>> 좁음 (빨강)__  \n",
    "__높음 (굵음) <<< 혼잡빈도강도 >>> 낮음 (얇음)__\n",
    "\n",
    "`고현동, 부산동 쪽 경부선에서 혼잡시간 경험한 차들이 많지만, 경부선은 실제 어린이 교통사고 구역이 아님.`  \n",
    "`동부대로 사거리쪽에 (부산동과 원동을 지나는) 교통량이 많은 것을 확인할 수 있다.`  \n",
    "`강을 가로지르는 경기대로 쪽이 교통량이 많고 혼잡도가 높은 것을  볼 수 있다.`"
   ]
  },
  {
   "cell_type": "markdown",
   "metadata": {},
   "source": [
    "> ### 4. 주정차단속 및 CCTV 설치 현황"
   ]
  },
  {
   "cell_type": "markdown",
   "metadata": {},
   "source": [
    "> __각 동에 따른 주정차 단속 수 비교 및 시각화__"
   ]
  },
  {
   "cell_type": "code",
   "execution_count": null,
   "metadata": {},
   "outputs": [],
   "source": [
    "주정차단속['동 구분'] = 주정차단속['행정구역'].str.extract('(\\w*동)')\n",
    "traffic_check = 주정차단속['동 구분'].value_counts().to_frame()\n",
    "traffic_check = traffic_check.reset_index()\n",
    "traffic_check.columns = ['EMD_KOR_NM', '단속횟수']\n",
    "plt.figure(figsize=(12,7))\n",
    "sns.barplot(x='EMD_KOR_NM',y='단속횟수',data=traffic_check, palette='Set1')\n",
    "plt.xticks(rotation=45,size=14)\n",
    "plt.xlabel(\"동 구분\")\n",
    "plt.show()"
   ]
  },
  {
   "cell_type": "code",
   "execution_count": null,
   "metadata": {},
   "outputs": [],
   "source": [
    "center=[37.164584, 127.050451]\n",
    "zoom =12.5\n",
    "\n",
    "동별주정차단속 = folium.Map(location=center, zoom_start=zoom)\n",
    "\n",
    "folium.Choropleth(\n",
    "    geo_data=법정경계_읍면동,\n",
    "    data=traffic_check,\n",
    "    columns=('EMD_KOR_NM','단속횟수'),\n",
    "    key_on='feature.properties.EMD_KOR_NM',\n",
    "    fill_color='YlGnBu',\n",
    "    legend_name='주정차단속',\n",
    ").add_to(동별주정차단속)\n",
    "\n",
    "top3 = traffic_check.sort_values(by=\"단속횟수\",ascending=False)[\"EMD_KOR_NM\"][:3].values.tolist()\n",
    "\n",
    "for name in top3:\n",
    "    for line in 법정경계_읍면동.iloc:\n",
    "        if line[\"EMD_KOR_NM\"]==name:\n",
    "            folium.Marker(\n",
    "                location=line.geometry.centroid.coords[0][::-1],\n",
    "                popup=name,\n",
    "                icon=folium.Icon(color=\"red\",icon='car',prefix=\"fa\")\n",
    "            ).add_to(동별주정차단속)\n",
    "        \n",
    "동별주정차단속"
   ]
  },
  {
   "cell_type": "markdown",
   "metadata": {},
   "source": [
    "`주정차 단속의 경우 총 인구수와 비례하는 것을 확인. 궐동-원동-금암동 순으로 주정차 단속 건수가 많다.`"
   ]
  },
  {
   "cell_type": "markdown",
   "metadata": {},
   "source": [
    "> __어린이 보호구역 내부로 제한했을 때 동별 주정차 단속 수 비교 및 시각화__"
   ]
  },
  {
   "cell_type": "code",
   "execution_count": null,
   "metadata": {},
   "outputs": [],
   "source": [
    "school = 주정차단속[주정차단속.스쿨존여부 =='Y']\n",
    "traffic_check_sc =  school[\"동 구분\"].value_counts().to_frame()\n",
    "traffic_check_sc = traffic_check_sc.reset_index()\n",
    "traffic_check_sc.columns = ['EMD_KOR_NM', '단속횟수']"
   ]
  },
  {
   "cell_type": "code",
   "execution_count": null,
   "metadata": {},
   "outputs": [],
   "source": [
    "center=[37.164584, 127.050451]\n",
    "zoom =12.5\n",
    "\n",
    "보호구역동별주정차단속 = folium.Map(location=center, zoom_start=zoom)\n",
    "\n",
    "folium.Choropleth(\n",
    "    geo_data=법정경계_읍면동,\n",
    "    data=traffic_check_sc,\n",
    "    columns=('EMD_KOR_NM','단속횟수'),\n",
    "    key_on='feature.properties.EMD_KOR_NM',\n",
    "    fill_color='YlGnBu',\n",
    "    legend_name='주정차단속',\n",
    ").add_to(보호구역동별주정차단속)\n",
    "\n",
    "top3 = traffic_check_sc.sort_values(by=\"단속횟수\",ascending=False)[\"EMD_KOR_NM\"][:3].values.tolist()\n",
    "\n",
    "for name in top3:\n",
    "    for line in 법정경계_읍면동.iloc:\n",
    "        if line[\"EMD_KOR_NM\"]==name:\n",
    "            folium.Marker(\n",
    "                location=line.geometry.centroid.coords[0][::-1],\n",
    "                popup=name,\n",
    "                icon=folium.Icon(color=\"red\",icon='car',prefix=\"fa\")\n",
    "            ).add_to(보호구역동별주정차단속)\n",
    "        \n",
    "보호구역동별주정차단속"
   ]
  },
  {
   "cell_type": "markdown",
   "metadata": {},
   "source": [
    "`스쿨존 내부에서 발생했음을 조건으로 제한 시 가수동에서 다수의 주정차 단속이 있었음을 확인`"
   ]
  },
  {
   "cell_type": "markdown",
   "metadata": {},
   "source": [
    "> __어린이 보호구역 주변 유형별 CCTV 분포__"
   ]
  },
  {
   "cell_type": "code",
   "execution_count": null,
   "metadata": {
    "scrolled": false
   },
   "outputs": [],
   "source": [
    "CCTV설치현황[\"유형\"] = CCTV설치현황[\"CCTV 유형코드\"].map({\"A\":\"방범\",\"B\":\"도시공원\",\"C\":\"어린이보호\",\"D\":\"차량방범\",\"E\":\"과속단속\"})\n",
    "\n",
    "plt.figure(figsize=(11,7))\n",
    "sns.countplot(x='유형',data=CCTV설치현황, palette='Pastel1')\n",
    "plt.xticks(size=14)\n",
    "plt.show()"
   ]
  },
  {
   "cell_type": "markdown",
   "metadata": {},
   "source": [
    "`대부분의 경우 A(방범) , C(어린이보호) 목적의 CCTV임을 확인할 수 있다.`"
   ]
  },
  {
   "cell_type": "markdown",
   "metadata": {},
   "source": [
    "> __동별 CCTV 분포 및 상위 5개 지역 시각화__"
   ]
  },
  {
   "cell_type": "code",
   "execution_count": null,
   "metadata": {},
   "outputs": [],
   "source": [
    "# 동별 CCTV수 분포\n",
    "def dong_cctv(geo_obj):\n",
    "    global CCTV설치현황\n",
    "    \n",
    "    cnt=0\n",
    "    for row in CCTV설치현황.iloc:\n",
    "        pt = Point([row['설치위치_경도'], row['설치위치_위도']])\n",
    "        if geo_obj.contains(pt):\n",
    "            cnt+=1\n",
    "    return cnt\n",
    "\n",
    "emd_CCTV=법정경계_읍면동.copy()\n",
    "emd_CCTV['CCTV설치대수']=법정경계_읍면동.geometry.map(dong_cctv)"
   ]
  },
  {
   "cell_type": "code",
   "execution_count": null,
   "metadata": {},
   "outputs": [],
   "source": [
    "center=[37.164584, 127.050451]\n",
    "zoom =12.5\n",
    "\n",
    "오산시_CCTV분포 = folium.Map(location=center, zoom_start=zoom)\n",
    "\n",
    "folium.GeoJson(\n",
    "    법정경계_읍면동,\n",
    "    style_function=lambda feature: {\n",
    "        'fill_color': '#FADADD',\n",
    "        'color': '#ff00ff',\n",
    "        'weight': 2,\n",
    "        'fill_opacity':0.2\n",
    "    }\n",
    ").add_to(오산시_CCTV분포)\n",
    "    \n",
    "for i in CCTV설치현황.index:\n",
    "    folium.Circle(\n",
    "        location = CCTV설치현황.loc[i, ['설치위치_위도', '설치위치_경도']],\n",
    "        radius = 50,\n",
    "        fill=True,\n",
    "        stroke=False,\n",
    "        fill_color='red',\n",
    "        fill_opacity=1,\n",
    "        tooltip = CCTV설치현황.loc[i,'유형'],\n",
    "    ).add_to(오산시_CCTV분포)\n",
    "    \n",
    "top5= emd_CCTV.sort_values(by=\"CCTV설치대수\",ascending=False)[\"EMD_KOR_NM\"][:5].values.tolist()\n",
    "\n",
    "for name in top5:\n",
    "    for line in 법정경계_읍면동.iloc:\n",
    "        if line[\"EMD_KOR_NM\"]==name:\n",
    "            folium.Marker(\n",
    "                location=line.geometry.centroid.coords[0][::-1],\n",
    "                popup=name,\n",
    "                icon=folium.Icon(color=\"blue\",icon='thumbs-up',prefix=\"fa\")\n",
    "            ).add_to(오산시_CCTV분포)\n",
    "\n",
    "오산시_CCTV분포"
   ]
  },
  {
   "cell_type": "markdown",
   "metadata": {},
   "source": [
    "`방범용 CCTV는 오산시 전 지역에 설치되어있는 것으로 보이며, 가장 많이 설치된 동 5개는 오산동, 궐동, 원동, 수청동, 금암동`"
   ]
  },
  {
   "cell_type": "markdown",
   "metadata": {},
   "source": [
    "# 과제별 세부 EDA : 과제1"
   ]
  },
  {
   "cell_type": "markdown",
   "metadata": {},
   "source": [
    "> __어린이 교통사고 발생 구간 주변 도로폭 시각화__  \n",
    "각 도로폭은 [1,2,3,4] 로 표기되어 있으며 실제 폭은 _폭 X 3.5m_"
   ]
  },
  {
   "cell_type": "code",
   "execution_count": null,
   "metadata": {},
   "outputs": [],
   "source": [
    "상세도로망 = gpd.read_file(os.path.join(path,'23.오산시_상세도로망_LV6.geojson'))\n",
    "center=[37.164584, 127.050451]\n",
    "zoom =12.5\n",
    "\n",
    "사고격자_주변도로폭 = folium.Map(location=center, zoom_start=zoom,tiles=\"stamenwatercolor\")\n",
    "\n",
    "folium.GeoJson(\n",
    "    법정경계_읍면동,name = \"동 경계\",\n",
    "    style_function=lambda feature: {\n",
    "        'color': '#FF8C00',\n",
    "        'weight': 2,\n",
    "        'opacity':0.5,\n",
    "        'fill_opacity':0.7\n",
    "    }\n",
    ").add_to(사고격자_주변도로폭)\n",
    "\n",
    "folium.GeoJson(\n",
    "    상세도로망[상세도로망.width==\"1\"],name = \"폭 1 [초록색]\",\n",
    "    style_function=lambda feature: {\n",
    "        'color': '#008000',\n",
    "        'weight': 3,\n",
    "        'opacity':0.5,\n",
    "    }\n",
    ").add_to(사고격자_주변도로폭)\n",
    "\n",
    "folium.GeoJson(\n",
    "    상세도로망[상세도로망.width==\"2\"],name = \"폭 2 [보라색]\",\n",
    "    style_function=lambda feature: {\n",
    "        'color': '#8b00ff',\n",
    "        'weight': 3,\n",
    "        'opacity':0.5,\n",
    "    }\n",
    ").add_to(사고격자_주변도로폭)\n",
    "\n",
    "folium.GeoJson(\n",
    "    상세도로망[상세도로망.width==\"3\"],name = \"폭 3 [빨간색]\",\n",
    "    style_function=lambda feature: {\n",
    "        'color': '#ff0000',\n",
    "        'weight': 3,\n",
    "        'opacity':0.5,\n",
    "    }\n",
    ").add_to(사고격자_주변도로폭)\n",
    "\n",
    "folium.GeoJson(\n",
    "    상세도로망[상세도로망.width==\"4\"],name = \"폭 4 [노란색]\",\n",
    "    style_function=lambda feature: {\n",
    "        'color': '#ffff00',\n",
    "        'weight': 3,\n",
    "        'opacity':0.5,\n",
    "    }\n",
    ").add_to(사고격자_주변도로폭)\n",
    "\n",
    "folium.GeoJson(\n",
    "    어린이교통사고_격자[어린이교통사고_격자.accident_cnt > 1],\n",
    "    name = '교통사고 2회 이상 [검정 격자]',\n",
    "    style_function=lambda feature: {\n",
    "        'color': 'black',\n",
    "        'weight': 3,\n",
    "        'opacity':0.7,\n",
    "    }\n",
    ").add_to(사고격자_주변도로폭)\n",
    "\n",
    "folium.LayerControl(collapsed=False).add_to(사고격자_주변도로폭)\n",
    "사고격자_주변도로폭"
   ]
  },
  {
   "cell_type": "markdown",
   "metadata": {},
   "source": [
    "`어린이 교통사고 발생 상당수가 도로폭 3(10.5m) , 4(14m) 에 해당하는 구간에서 일어났음을 시각적으로 확인할 수 있다.`"
   ]
  },
  {
   "cell_type": "markdown",
   "metadata": {},
   "source": [
    "> __어린이 교통사고 발생 구간 주변 학원 분포__  "
   ]
  },
  {
   "cell_type": "code",
   "execution_count": null,
   "metadata": {},
   "outputs": [],
   "source": [
    "center=[37.164584, 127.050451]\n",
    "zoom =12.5\n",
    "\n",
    "사고격자_주변_학원_map = folium.Map(location=center, zoom_start=zoom,tiles=\"cartodbpositron\")\n",
    "\n",
    "folium.GeoJson(\n",
    "    법정경계_읍면동,name = \"동 경계\",\n",
    "    style_function=lambda feature: {\n",
    "        'color': '#000000',\n",
    "        'weight': 2,\n",
    "        'opacity':0.2,\n",
    "    }\n",
    ").add_to(사고격자_주변_학원_map)\n",
    "\n",
    "for line in 관심학원_현황.iloc:\n",
    "    [lng,lat] = line[-2:]\n",
    "    \n",
    "    folium.Circle(\n",
    "    location = [lat,lng],\n",
    "    radius=50,\n",
    "    stroke=False,\n",
    "    fill=True,\n",
    "    fill_color='blue',\n",
    "    fill_opacity=0.85,\n",
    "    tooltip=line[\"교습과정명\"]).add_to(사고격자_주변_학원_map)\n",
    "    \n",
    "folium.GeoJson(\n",
    "    어린이교통사고_격자[어린이교통사고_격자.accident_cnt > 1],\n",
    "    name = '교통사고 2회 이상 [빨간 격자]',\n",
    "    style_function=lambda feature: {\n",
    "        'color': 'red',\n",
    "        'weight': 3,\n",
    "        'opacity':0.7,\n",
    "    }\n",
    ").add_to(사고격자_주변_학원_map)\n",
    "\n",
    "folium.LayerControl(collapsed=False).add_to(사고격자_주변_학원_map)\n",
    "사고격자_주변_학원_map"
   ]
  },
  {
   "cell_type": "markdown",
   "metadata": {},
   "source": [
    "`학원이 없는 지역에서는 어린이 교통사고 발생 확률이 낮으며 동에 따라 학원 밀집도가 상이함.`"
   ]
  },
  {
   "cell_type": "markdown",
   "metadata": {},
   "source": [
    "> __동 별 학원 수와 어린이 교통사고 발생 건수__  "
   ]
  },
  {
   "cell_type": "code",
   "execution_count": null,
   "metadata": {},
   "outputs": [],
   "source": [
    "def hakwon(geo_obj):\n",
    "    global 관심학원_현황\n",
    "    cnt=0\n",
    "    for line in 관심학원_현황.iloc:\n",
    "        [lng,lat] = line[-2:]\n",
    "        if geo_obj.contains(Point(lng, lat)):\n",
    "            cnt+=1\n",
    "    return cnt\n",
    "\n",
    "def acc_grid(geo_obj):\n",
    "    global 어린이교통사고_격자\n",
    "    cnt=0\n",
    "    for line in 어린이교통사고_격자[어린이교통사고_격자.accident_cnt > 1].iloc:\n",
    "        _,acc,grid_obj = line\n",
    "        if geo_obj.contains(grid_obj.centroid):\n",
    "            cnt+=acc\n",
    "    return cnt\n",
    "\n",
    "동별정보 = 법정경계_읍면동.copy()\n",
    "동별정보[\"학원 수\"] = 동별정보.geometry.map(hakwon)\n",
    "동별정보[\"어린이 교통사고 건수\"] = 동별정보.geometry.map(acc_grid)"
   ]
  },
  {
   "cell_type": "code",
   "execution_count": null,
   "metadata": {},
   "outputs": [],
   "source": [
    "colors_ = sns.color_palette('cool',동별정보.shape[0])\n",
    "\n",
    "fig,(ax1,ax2)=plt.subplots(nrows=2,figsize=(15,13))\n",
    "ax1.bar(동별정보[\"EMD_KOR_NM\"],동별정보[\"학원 수\"], color=colors_,edgecolor=\"blue\", linewidth=0.5)\n",
    "ax1.set_xticklabels(labels=동별정보[\"EMD_KOR_NM\"],rotation = 45)\n",
    "ax1.set_title(\"동 별 학원 수\",fontsize=20)\n",
    "ax1.set_xlabel(\"동 구분\",fontsize=13)\n",
    "ax1.set_ylabel(\"학원 수\",fontsize=13)\n",
    "\n",
    "ax2.bar(동별정보[\"EMD_KOR_NM\"],동별정보[\"어린이 교통사고 건수\"], color=colors_,edgecolor=\"blue\", linewidth=0.5)\n",
    "ax2.set_xticklabels(labels=동별정보[\"EMD_KOR_NM\"],rotation = 45)\n",
    "ax2.set_title(\"동 별 어린이 교통사고 건수\",fontsize=20)\n",
    "ax2.set_xlabel(\"동 구분\",fontsize=13)\n",
    "ax2.set_ylabel(\"건수\",fontsize=13)\n",
    "\n",
    "plt.tight_layout()\n",
    "plt.show()"
   ]
  },
  {
   "cell_type": "markdown",
   "metadata": {},
   "source": [
    "```거주인구 , 유동인구가 많은 동에서 마찬가지로 학원 수와 교통사고 건수도 많음을 확인할 수 있고,  \n",
    "갈곶동의 경우 위험지역으로 발전할 가능성이 있음```"
   ]
  },
  {
   "cell_type": "markdown",
   "metadata": {},
   "source": [
    "# 과제별 세부 EDA : 과제2"
   ]
  },
  {
   "cell_type": "markdown",
   "metadata": {},
   "source": [
    "> ### 1. 어린이보호구역 내에서 주정차단속 현황"
   ]
  },
  {
   "cell_type": "markdown",
   "metadata": {},
   "source": [
    "> __어린이 보호구역 내에서 동별 주정차 단속 수 비교 및 시각화__"
   ]
  },
  {
   "cell_type": "code",
   "execution_count": null,
   "metadata": {},
   "outputs": [],
   "source": [
    "school = 주정차단속[주정차단속.스쿨존여부 =='Y']\n",
    "traffic_check_sc =  school[\"동 구분\"].value_counts().to_frame()\n",
    "traffic_check_sc = traffic_check_sc.reset_index()\n",
    "traffic_check_sc.columns = ['EMD_KOR_NM', '단속횟수']"
   ]
  },
  {
   "cell_type": "code",
   "execution_count": null,
   "metadata": {},
   "outputs": [],
   "source": [
    "center=[37.164584, 127.050451]\n",
    "zoom =12.5\n",
    "\n",
    "보호구역동별주정차단속 = folium.Map(location=center, zoom_start=zoom)\n",
    "\n",
    "folium.Choropleth(\n",
    "    geo_data=법정경계_읍면동,\n",
    "    data=traffic_check_sc,\n",
    "    columns=('EMD_KOR_NM','단속횟수'),\n",
    "    key_on='feature.properties.EMD_KOR_NM',\n",
    "    fill_color='YlGnBu',\n",
    "    legend_name='주정차단속',\n",
    ").add_to(보호구역동별주정차단속)\n",
    "\n",
    "top3 = traffic_check_sc.sort_values(by=\"단속횟수\",ascending=False)[\"EMD_KOR_NM\"][:3].values.tolist()\n",
    "\n",
    "for name in top3:\n",
    "    for line in 법정경계_읍면동.iloc:\n",
    "        if line[\"EMD_KOR_NM\"]==name:\n",
    "            folium.Marker(\n",
    "                location=line.geometry.centroid.coords[0][::-1],\n",
    "                popup=name,\n",
    "                icon=folium.Icon(color=\"red\",icon='car',prefix=\"fa\")\n",
    "            ).add_to(보호구역동별주정차단속)\n",
    "        \n",
    "보호구역동별주정차단속"
   ]
  },
  {
   "cell_type": "markdown",
   "metadata": {},
   "source": [
    "`스쿨존 내부에서 발생했음을 조건으로 제한 시 가수동에서 다수의 주정차 단속이 있었음을 확인  \n",
    "&& 가수동, 원동 궐동에 속한 스쿨존에서 주정차 단속이 다른 지역에 비해 많았던 것으로 확인`"
   ]
  },
  {
   "cell_type": "markdown",
   "metadata": {},
   "source": [
    "> ### 2. 어린이보호구역 주변 인도와 CCTV 설치 현황"
   ]
  },
  {
   "cell_type": "markdown",
   "metadata": {},
   "source": [
    "> __어린이 보호구역 주변 인도와 CCTV 설치 현황 시각화__"
   ]
  },
  {
   "cell_type": "code",
   "execution_count": null,
   "metadata": {},
   "outputs": [],
   "source": [
    "center=[37.164584, 127.050451]\n",
    "zoom =12.5\n",
    "\n",
    "어린이보호구역_주변_유형별_CCTV분포 = folium.Map(location=center, zoom_start=zoom)\n",
    "\n",
    "folium.GeoJson(\n",
    "    법정경계_시군구,\n",
    "    style_function=lambda feature: {\n",
    "        'fillColor': '#ADFF2F',\n",
    "        'color': '#008000',\n",
    "        'weight': 2,\n",
    "    }\n",
    ").add_to(어린이보호구역_주변_유형별_CCTV분포)\n",
    "\n",
    "# 인도\n",
    "folium.GeoJson(\n",
    "    인도,\n",
    "    style_function=lambda feature: {\n",
    "        'fillColor': '#FA8072',\n",
    "        'color': '#FFA500',\n",
    "        'weight': 3,\n",
    "        'dashArray': '5, 5'\n",
    "    }\n",
    ").add_to(어린이보호구역_주변_유형별_CCTV분포)\n",
    "\n",
    "for i in 어린이보호구역.index:\n",
    "    folium.Circle(\n",
    "        location = 어린이보호구역.loc[i, ['보호구역_위도', '보호구역_경도']],\n",
    "        radius = 300,\n",
    "        color='blue',\n",
    "        fill=True,\n",
    "        fill_color='blue',\n",
    "        fill_opacity=0.7,\n",
    "        tooltip = 어린이보호구역.loc[i,'시설명']\n",
    "    ).add_to(어린이보호구역_주변_유형별_CCTV분포)\n",
    "\n",
    "    \n",
    "for i in CCTV설치현황[CCTV설치현황['유형']=='방범'].index:\n",
    "    folium.Circle(\n",
    "        location = CCTV설치현황.loc[i, ['설치위치_위도', '설치위치_경도']],\n",
    "        radius = 50,\n",
    "        fill=True,\n",
    "        stroke=False,\n",
    "        fill_color='red',\n",
    "        fill_opacity=1,\n",
    "        tooltip = CCTV설치현황.loc[i,'유형'],\n",
    "    ).add_to(어린이보호구역_주변_유형별_CCTV분포)\n",
    "\n",
    "for i in CCTV설치현황[CCTV설치현황['유형']=='어린이보호'].index:\n",
    "    folium.Circle(\n",
    "        location = CCTV설치현황.loc[i, ['설치위치_위도', '설치위치_경도']],\n",
    "        radius = 50,\n",
    "        fill=True,\n",
    "        stroke=False,\n",
    "        fill_color='orange',\n",
    "        fill_opacity=1,\n",
    "        tooltip = CCTV설치현황.loc[i,'유형'],\n",
    "    ).add_to(어린이보호구역_주변_유형별_CCTV분포)\n",
    "\n",
    "for i in CCTV설치현황[CCTV설치현황['유형']=='도시공원'].index:\n",
    "    folium.Circle(\n",
    "        location = CCTV설치현황.loc[i, ['설치위치_위도', '설치위치_경도']],\n",
    "        radius = 50,\n",
    "        fill=True,\n",
    "        stroke=False,\n",
    "        fill_color='yellow',\n",
    "        fill_opacity=1,\n",
    "        tooltip = CCTV설치현황.loc[i,'유형'],\n",
    "    ).add_to(어린이보호구역_주변_유형별_CCTV분포)\n",
    "\n",
    "for i in CCTV설치현황[CCTV설치현황['유형']=='차량방범'].index:\n",
    "    folium.Circle(\n",
    "        location = CCTV설치현황.loc[i, ['설치위치_위도', '설치위치_경도']],\n",
    "        radius = 50,\n",
    "        fill=True,\n",
    "        stroke=False,\n",
    "        fill_color='green',\n",
    "        fill_opacity=1,\n",
    "        tooltip = CCTV설치현황.loc[i,'유형'],\n",
    "    ).add_to(어린이보호구역_주변_유형별_CCTV분포)\n",
    "\n",
    "for i in CCTV설치현황[CCTV설치현황['유형']=='과속단속'].index:\n",
    "    folium.Circle(\n",
    "        location = CCTV설치현황.loc[i, ['설치위치_위도', '설치위치_경도']],\n",
    "        radius = 50,\n",
    "        fill=True,\n",
    "        stroke=False,\n",
    "        fill_color='brown',\n",
    "        fill_opacity=1,\n",
    "        tooltip = CCTV설치현황.loc[i,'유형'],\n",
    "    ).add_to(어린이보호구역_주변_유형별_CCTV분포)\n",
    "\n",
    "어린이보호구역_주변_유형별_CCTV분포"
   ]
  },
  {
   "cell_type": "markdown",
   "metadata": {},
   "source": [
    "`1. 설치된 CCTV의 대다수가 어린이보호구역을 중심으로 설치되어 있는 것을 확인할 수 있다.  \n",
    "&& 방범 CCTV(빨간색)의 경우 오산시 전역에 분포해있고, 어린이보호 CCTV(주황색)는 어린이보호 구역내에 집중되어 있는 것을 확인  \n",
    "2. 대부분의 어린이보호구역은 인도를 포함하고 있는 것을 확인할 수 있다.  \n",
    "&& 인도가 포함되지 않은 어린이보호구역의 경우 보호구역내 또는 주변에 CCTV가 설치되어 있음 (예: 성심학교, 숲속다원유치원, 리틀램어린이집 등)`"
   ]
  },
  {
   "cell_type": "markdown",
   "metadata": {},
   "source": [
    "> ### 3. 어린이보호구역 주변 횡단보도와 신호등"
   ]
  },
  {
   "cell_type": "markdown",
   "metadata": {},
   "source": [
    "> __오산시 횡단보도, 인도 및 신호등 설치 현황 및 어린이보호구역과의 비교 시각화__"
   ]
  },
  {
   "cell_type": "code",
   "execution_count": null,
   "metadata": {},
   "outputs": [],
   "source": [
    "center=[37.164584, 127.050451]\n",
    "zoom_start=13\n",
    "횡단보도_인도_신호등 = folium.Map(location=center, zoom_start=zoom_start)\n",
    "\n",
    "# 오산시 경계\n",
    "folium.GeoJson(\n",
    "    법정경계_시군구,\n",
    "    style_function=lambda feature: {\n",
    "        'fillColor': '#ADFF2F',\n",
    "        'color': '#008000',\n",
    "        'weight': 2,\n",
    "    }\n",
    ").add_to(횡단보도_인도_신호등)\n",
    "\n",
    "# 횡단보도\n",
    "folium.GeoJson(\n",
    "    횡단보도,\n",
    "    style_function=lambda feature: {\n",
    "        'fillColor': 'blue',\n",
    "        'color': 'blue',\n",
    "        'weight': 4,\n",
    "    }\n",
    ").add_to(횡단보도_인도_신호등)\n",
    "\n",
    "# 인도\n",
    "folium.GeoJson(\n",
    "    인도,\n",
    "    style_function=lambda feature: {\n",
    "        'fillColor': '#FA8072',\n",
    "        'color': '#FFA500',\n",
    "        'weight': 3,\n",
    "        'dashArray': '5, 5'\n",
    "    }\n",
    ").add_to(횡단보도_인도_신호등)\n",
    "\n",
    "# 신호등\n",
    "for line in 신호등.iloc:\n",
    "    folium.Circle(\n",
    "        location=[line.geometry.y, line.geometry.x],\n",
    "        radius=10,\n",
    "        fill=True,\n",
    "        stroke=False,\n",
    "        fill_color='red',\n",
    "        fill_opacity=1\n",
    ").add_to(횡단보도_인도_신호등)\n",
    "\n",
    "# 어린이보호구역\n",
    "for i in 어린이보호구역.index:\n",
    "    folium.Circle(\n",
    "        location = 어린이보호구역.loc[i, ['보호구역_위도', '보호구역_경도']],\n",
    "        radius = 300,\n",
    "        color='green',\n",
    "        fill=True,\n",
    "        stroke=False,\n",
    "        fill_color='green',\n",
    "        fill_opacity=0.4,\n",
    "        tooltip = 어린이보호구역.loc[i,'시설명']\n",
    "    ).add_to(횡단보도_인도_신호등)\n",
    "\n",
    "횡단보도_인도_신호등"
   ]
  },
  {
   "cell_type": "markdown",
   "metadata": {},
   "source": [
    "```전체적으로 신호등과 횡단보도는 도시의 대로와 교차로 지점에 설치되어 있는 것을 확인  \n",
    "&& 대부분의 어린이보호구역에 신호등과 횡단보도가 설치되어있음  \n",
    "&& 신호등과 횡단보도가 설치되어있지 않은 어린이보호구역 다수 확인 (예: 성심학교, 리틀램어린이집, 오산원당초등학교)  \n",
    "&& 횡단보도만 설치된 어린이보호구역도 있음 (예: 숲속다원유치원)  \n",
    "&& 인도만 설치된 어린이보호구역도 있음 (예: 베스트어린이집)```"
   ]
  },
  {
   "cell_type": "markdown",
   "metadata": {},
   "source": [
    "> ### 4. 어린이보호구역 주변 과속방지턱"
   ]
  },
  {
   "cell_type": "markdown",
   "metadata": {},
   "source": [
    "> __오산시 과속방지턱 설치현황과 어린이보호구역 비교 시각화__"
   ]
  },
  {
   "cell_type": "code",
   "execution_count": null,
   "metadata": {},
   "outputs": [],
   "source": [
    "center=[37.164584, 127.050451]\n",
    "zoom_start=13\n",
    "과속방지턱_어린이보호구역 = folium.Map(location=center, zoom_start=zoom_start)\n",
    "\n",
    "# 오산시 경계\n",
    "folium.GeoJson(\n",
    "    법정경계_시군구,\n",
    "    style_function=lambda feature: {\n",
    "        'fillColor': '#ADFF2F',\n",
    "        'color': '#008000',\n",
    "        'weight': 2,\n",
    "    }\n",
    ").add_to(과속방지턱_어린이보호구역)\n",
    "\n",
    "# 과속방지턱\n",
    "for i in 과속방지턱.index:\n",
    "    folium.Circle(\n",
    "        location = 과속방지턱.loc[i, ['설치위치_위도', '설치위치_경도']],\n",
    "        radius = 70,\n",
    "        color='red',\n",
    "        fill=True,\n",
    "        stroke=False,\n",
    "        fill_color='red',\n",
    "        fill_opacity=1,\n",
    "        tooltip = 과속방지턱.loc[i,'설치장소명']\n",
    "    ).add_to(과속방지턱_어린이보호구역)\n",
    "\n",
    "# 어린이보호구역\n",
    "for i in 어린이보호구역.index:\n",
    "    folium.Circle(\n",
    "        location = 어린이보호구역.loc[i, ['보호구역_위도', '보호구역_경도']],\n",
    "        radius = 300,\n",
    "        color='green',\n",
    "        fill=True,\n",
    "        stroke=False,\n",
    "        fill_color='green',\n",
    "        fill_opacity=0.4,\n",
    "        tooltip = 어린이보호구역.loc[i,'시설명']\n",
    "    ).add_to(과속방지턱_어린이보호구역)\n",
    "\n",
    "과속방지턱_어린이보호구역"
   ]
  },
  {
   "cell_type": "markdown",
   "metadata": {},
   "source": [
    "`오산시에 설치된 과속방지턱은 모두 어린이보호구역 안이나 주변에 설치되어있음을 확인`"
   ]
  },
  {
   "cell_type": "markdown",
   "metadata": {},
   "source": [
    "> ### 5. 어린이보호구역 주변에 거주하는 유소년인구 현황"
   ]
  },
  {
   "cell_type": "markdown",
   "metadata": {},
   "source": [
    "> __어린이 보호구역 주변에 거주하는 유소년인구 현황 시각화__"
   ]
  },
  {
   "cell_type": "code",
   "execution_count": null,
   "metadata": {},
   "outputs": [],
   "source": [
    "center=[37.164584, 127.050451]\n",
    "zoom_start=13\n",
    "유소년인구_어린이보호구역 = folium.Map(location=center, zoom_start=zoom_start, tiles='cartodbpositron')\n",
    "\n",
    "# 오산시 경계\n",
    "folium.GeoJson(\n",
    "    법정경계_시군구,\n",
    "    style_function=lambda feature: {\n",
    "        'color': '#008000',\n",
    "        'weight': 2,\n",
    "    }\n",
    ").add_to(유소년인구_어린이보호구역)\n",
    "\n",
    "# 오산시 거주하는 유소년인구 격자\n",
    "folium.Choropleth(\n",
    "    geo_data=거주인구_전체,\n",
    "    name='유소년 거주인구',\n",
    "    data=거주인구_전체,\n",
    "    columns=('gid', '유소년'),\n",
    "    key_on='feature.properties.gid',\n",
    "    fill_color='YlOrRd',\n",
    "    nan_fill_opacity=0,\n",
    "    fill_opacity=1,\n",
    "    line_color='gray',\n",
    "    line_weight=0,\n",
    "    legend_name='유소년 거주인구',\n",
    ").add_to(유소년인구_어린이보호구역)\n",
    "\n",
    "# 어린이보호구역\n",
    "for i in 어린이보호구역.index:\n",
    "    folium.Circle(\n",
    "        location = 어린이보호구역.loc[i, ['보호구역_위도', '보호구역_경도']],\n",
    "        radius = 300,\n",
    "        color='green',\n",
    "        fill=True,\n",
    "        stroke=False,\n",
    "        fill_color='green',\n",
    "        fill_opacity=0.4,\n",
    "        tooltip = 어린이보호구역.loc[i,'시설명']\n",
    "    ).add_to(유소년인구_어린이보호구역)\n",
    "\n",
    "유소년인구_어린이보호구역"
   ]
  },
  {
   "cell_type": "markdown",
   "metadata": {},
   "source": [
    "`어린이보호구역 주변에 거주하는 유소년인구는 타 지역에 비해 높은 것으로 보여짐`"
   ]
  },
  {
   "cell_type": "markdown",
   "metadata": {},
   "source": [
    "> ### 6. 어린이보호구역 주변에 등록된 차량대수"
   ]
  },
  {
   "cell_type": "markdown",
   "metadata": {},
   "source": [
    "> __어린이보호구역 부근에 등록된 차량대수 시각화__"
   ]
  },
  {
   "cell_type": "code",
   "execution_count": null,
   "metadata": {},
   "outputs": [],
   "source": [
    "center=[37.164584, 127.050451]\n",
    "zoom_start=13\n",
    "등록차량대수_어린이보호구역 = folium.Map(location=center, zoom_start=zoom_start, tiles='cartodbpositron')\n",
    "\n",
    "# 오산시 경계\n",
    "folium.GeoJson(\n",
    "    법정경계_시군구,\n",
    "    style_function=lambda feature: {\n",
    "        'color': '#008000',\n",
    "        'weight': 2,\n",
    "    }\n",
    ").add_to(등록차량대수_어린이보호구역)\n",
    "\n",
    "# 등록차량대수 격자\n",
    "folium.Choropleth(\n",
    "    geo_data=차량등록현황_격자,\n",
    "    name='차량등록현황',\n",
    "    data=차량등록현황_격자,\n",
    "    columns=('gid', 'car_cnt'),\n",
    "    key_on='feature.properties.gid',\n",
    "    fill_color='YlOrRd',\n",
    "    nan_fill_opacity=0,\n",
    "    fill_opacity=1,\n",
    "    line_color='gray',\n",
    "    line_weight=0,\n",
    "    legend_name='차량등록현황',\n",
    ").add_to(등록차량대수_어린이보호구역)\n",
    "\n",
    "# 어린이보호구역\n",
    "for i in 어린이보호구역.index:\n",
    "    folium.Circle(\n",
    "        location = 어린이보호구역.loc[i, ['보호구역_위도', '보호구역_경도']],\n",
    "        radius = 300,\n",
    "        color='green',\n",
    "        fill=True,\n",
    "        stroke=False,\n",
    "        fill_color='green',\n",
    "        fill_opacity=0.4,\n",
    "        tooltip = 어린이보호구역.loc[i,'시설명']\n",
    "    ).add_to(등록차량대수_어린이보호구역)\n",
    "\n",
    "등록차량대수_어린이보호구역"
   ]
  },
  {
   "cell_type": "markdown",
   "metadata": {},
   "source": [
    "`어린이보호구역 주변에 등록된 차량대수는 타 지역에 비해 많은 것으로 보여짐`"
   ]
  }
 ],
 "metadata": {
  "kernelspec": {
   "display_name": "Python 3",
   "language": "python",
   "name": "python3"
  },
  "language_info": {
   "codemirror_mode": {
    "name": "ipython",
    "version": 3
   },
   "file_extension": ".py",
   "mimetype": "text/x-python",
   "name": "python",
   "nbconvert_exporter": "python",
   "pygments_lexer": "ipython3",
   "version": "3.6.9"
  }
 },
 "nbformat": 4,
 "nbformat_minor": 4
}
